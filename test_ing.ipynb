{
  "nbformat": 4,
  "nbformat_minor": 0,
  "metadata": {
    "colab": {
      "provenance": [],
      "authorship_tag": "ABX9TyOp2U/JGd3afiTygUJIdjvn",
      "include_colab_link": true
    },
    "kernelspec": {
      "name": "python3",
      "display_name": "Python 3"
    },
    "language_info": {
      "name": "python"
    }
  },
  "cells": [
    {
      "cell_type": "markdown",
      "metadata": {
        "id": "view-in-github",
        "colab_type": "text"
      },
      "source": [
        "<a href=\"https://colab.research.google.com/github/kumargautam02/read_public_s3/blob/colab_branch/test_ing.ipynb\" target=\"_parent\"><img src=\"https://colab.research.google.com/assets/colab-badge.svg\" alt=\"Open In Colab\"/></a>"
      ]
    },
    {
      "cell_type": "code",
      "source": [
        "pip install -r /content/program/requirements.txt\n"
      ],
      "metadata": {
        "colab": {
          "base_uri": "https://localhost:8080/",
          "height": 1000
        },
        "id": "qzYRS1poGBsv",
        "outputId": "5aea2a69-a293-4eff-c18a-b1564fb0849f"
      },
      "execution_count": 4,
      "outputs": [
        {
          "output_type": "stream",
          "name": "stdout",
          "text": [
            "Collecting aiobotocore==2.13.0 (from -r /content/program/requirements.txt (line 1))\n",
            "  Using cached aiobotocore-2.13.0-py3-none-any.whl (76 kB)\n",
            "Requirement already satisfied: aiohttp==3.9.5 in /usr/local/lib/python3.10/dist-packages (from -r /content/program/requirements.txt (line 2)) (3.9.5)\n",
            "Collecting aioitertools==0.11.0 (from -r /content/program/requirements.txt (line 3))\n",
            "  Using cached aioitertools-0.11.0-py3-none-any.whl (23 kB)\n",
            "Requirement already satisfied: aiosignal==1.3.1 in /usr/local/lib/python3.10/dist-packages (from -r /content/program/requirements.txt (line 4)) (1.3.1)\n",
            "Collecting asttokens==2.4.1 (from -r /content/program/requirements.txt (line 5))\n",
            "  Using cached asttokens-2.4.1-py2.py3-none-any.whl (27 kB)\n",
            "Requirement already satisfied: attrs==23.2.0 in /usr/local/lib/python3.10/dist-packages (from -r /content/program/requirements.txt (line 6)) (23.2.0)\n",
            "Collecting botocore==1.34.106 (from -r /content/program/requirements.txt (line 7))\n",
            "  Using cached botocore-1.34.106-py3-none-any.whl (12.2 MB)\n",
            "Collecting colorama==0.4.6 (from -r /content/program/requirements.txt (line 8))\n",
            "  Using cached colorama-0.4.6-py2.py3-none-any.whl (25 kB)\n",
            "Collecting comm==0.2.2 (from -r /content/program/requirements.txt (line 9))\n",
            "  Using cached comm-0.2.2-py3-none-any.whl (7.2 kB)\n",
            "Collecting debugpy==1.8.1 (from -r /content/program/requirements.txt (line 10))\n",
            "  Using cached debugpy-1.8.1-cp310-cp310-manylinux_2_17_x86_64.manylinux2014_x86_64.whl (3.0 MB)\n",
            "Collecting decorator==5.1.1 (from -r /content/program/requirements.txt (line 11))\n",
            "  Using cached decorator-5.1.1-py3-none-any.whl (9.1 kB)\n",
            "Collecting executing==2.0.1 (from -r /content/program/requirements.txt (line 12))\n",
            "  Using cached executing-2.0.1-py2.py3-none-any.whl (24 kB)\n",
            "Requirement already satisfied: frozenlist==1.4.1 in /usr/local/lib/python3.10/dist-packages (from -r /content/program/requirements.txt (line 13)) (1.4.1)\n",
            "Collecting fsspec==2024.5.0 (from -r /content/program/requirements.txt (line 14))\n",
            "  Using cached fsspec-2024.5.0-py3-none-any.whl (316 kB)\n",
            "Requirement already satisfied: idna==3.7 in /usr/local/lib/python3.10/dist-packages (from -r /content/program/requirements.txt (line 15)) (3.7)\n",
            "Collecting ipykernel==6.29.4 (from -r /content/program/requirements.txt (line 16))\n",
            "  Using cached ipykernel-6.29.4-py3-none-any.whl (117 kB)\n",
            "Collecting ipython==8.24.0 (from -r /content/program/requirements.txt (line 17))\n",
            "  Using cached ipython-8.24.0-py3-none-any.whl (816 kB)\n",
            "Collecting jedi==0.19.1 (from -r /content/program/requirements.txt (line 18))\n",
            "  Using cached jedi-0.19.1-py2.py3-none-any.whl (1.6 MB)\n",
            "Collecting jmespath==1.0.1 (from -r /content/program/requirements.txt (line 19))\n",
            "  Using cached jmespath-1.0.1-py3-none-any.whl (20 kB)\n",
            "Collecting jupyter_client==8.6.1 (from -r /content/program/requirements.txt (line 20))\n",
            "  Using cached jupyter_client-8.6.1-py3-none-any.whl (105 kB)\n",
            "Requirement already satisfied: jupyter_core==5.7.2 in /usr/local/lib/python3.10/dist-packages (from -r /content/program/requirements.txt (line 21)) (5.7.2)\n",
            "Requirement already satisfied: matplotlib-inline==0.1.7 in /usr/local/lib/python3.10/dist-packages (from -r /content/program/requirements.txt (line 22)) (0.1.7)\n",
            "Requirement already satisfied: multidict==6.0.5 in /usr/local/lib/python3.10/dist-packages (from -r /content/program/requirements.txt (line 23)) (6.0.5)\n",
            "Requirement already satisfied: nest-asyncio==1.6.0 in /usr/local/lib/python3.10/dist-packages (from -r /content/program/requirements.txt (line 24)) (1.6.0)\n",
            "Requirement already satisfied: packaging==24.0 in /usr/local/lib/python3.10/dist-packages (from -r /content/program/requirements.txt (line 25)) (24.0)\n",
            "Requirement already satisfied: parso==0.8.4 in /usr/local/lib/python3.10/dist-packages (from -r /content/program/requirements.txt (line 26)) (0.8.4)\n",
            "Requirement already satisfied: platformdirs==4.2.2 in /usr/local/lib/python3.10/dist-packages (from -r /content/program/requirements.txt (line 27)) (4.2.2)\n",
            "Requirement already satisfied: prompt-toolkit==3.0.43 in /usr/local/lib/python3.10/dist-packages (from -r /content/program/requirements.txt (line 28)) (3.0.43)\n",
            "Collecting psutil==5.9.8 (from -r /content/program/requirements.txt (line 29))\n",
            "  Using cached psutil-5.9.8-cp36-abi3-manylinux_2_12_x86_64.manylinux2010_x86_64.manylinux_2_17_x86_64.manylinux2014_x86_64.whl (288 kB)\n",
            "Collecting pure-eval==0.2.2 (from -r /content/program/requirements.txt (line 30))\n",
            "  Using cached pure_eval-0.2.2-py3-none-any.whl (11 kB)\n",
            "Collecting Pygments==2.18.0 (from -r /content/program/requirements.txt (line 31))\n",
            "  Using cached pygments-2.18.0-py3-none-any.whl (1.2 MB)\n",
            "Collecting python-dateutil==2.9.0.post0 (from -r /content/program/requirements.txt (line 32))\n",
            "  Using cached python_dateutil-2.9.0.post0-py2.py3-none-any.whl (229 kB)\n",
            "Collecting pyzmq==26.0.3 (from -r /content/program/requirements.txt (line 34))\n",
            "  Downloading pyzmq-26.0.3-cp310-cp310-manylinux_2_28_x86_64.whl (919 kB)\n",
            "\u001b[2K     \u001b[90m━━━━━━━━━━━━━━━━━━━━━━━━━━━━━━━━━━━━━━━━\u001b[0m \u001b[32m919.8/919.8 kB\u001b[0m \u001b[31m5.0 MB/s\u001b[0m eta \u001b[36m0:00:00\u001b[0m\n",
            "\u001b[?25hCollecting s3fs==2024.5.0 (from -r /content/program/requirements.txt (line 35))\n",
            "  Downloading s3fs-2024.5.0-py3-none-any.whl (29 kB)\n",
            "Requirement already satisfied: six==1.16.0 in /usr/local/lib/python3.10/dist-packages (from -r /content/program/requirements.txt (line 36)) (1.16.0)\n",
            "Collecting stack-data==0.6.3 (from -r /content/program/requirements.txt (line 37))\n",
            "  Downloading stack_data-0.6.3-py3-none-any.whl (24 kB)\n",
            "Collecting tornado==6.4 (from -r /content/program/requirements.txt (line 38))\n",
            "  Downloading tornado-6.4-cp38-abi3-manylinux_2_5_x86_64.manylinux1_x86_64.manylinux_2_17_x86_64.manylinux2014_x86_64.whl (435 kB)\n",
            "\u001b[2K     \u001b[90m━━━━━━━━━━━━━━━━━━━━━━━━━━━━━━━━━━━━━━━━\u001b[0m \u001b[32m435.4/435.4 kB\u001b[0m \u001b[31m24.1 MB/s\u001b[0m eta \u001b[36m0:00:00\u001b[0m\n",
            "\u001b[?25hCollecting traitlets==5.14.3 (from -r /content/program/requirements.txt (line 39))\n",
            "  Downloading traitlets-5.14.3-py3-none-any.whl (85 kB)\n",
            "\u001b[2K     \u001b[90m━━━━━━━━━━━━━━━━━━━━━━━━━━━━━━━━━━━━━━━━\u001b[0m \u001b[32m85.4/85.4 kB\u001b[0m \u001b[31m7.9 MB/s\u001b[0m eta \u001b[36m0:00:00\u001b[0m\n",
            "\u001b[?25hRequirement already satisfied: typing_extensions==4.11.0 in /usr/local/lib/python3.10/dist-packages (from -r /content/program/requirements.txt (line 40)) (4.11.0)\n",
            "Collecting urllib3==2.2.1 (from -r /content/program/requirements.txt (line 41))\n",
            "  Downloading urllib3-2.2.1-py3-none-any.whl (121 kB)\n",
            "\u001b[2K     \u001b[90m━━━━━━━━━━━━━━━━━━━━━━━━━━━━━━━━━━━━━━━━\u001b[0m \u001b[32m121.1/121.1 kB\u001b[0m \u001b[31m9.8 MB/s\u001b[0m eta \u001b[36m0:00:00\u001b[0m\n",
            "\u001b[?25hRequirement already satisfied: wcwidth==0.2.13 in /usr/local/lib/python3.10/dist-packages (from -r /content/program/requirements.txt (line 42)) (0.2.13)\n",
            "Collecting wrapt==1.16.0 (from -r /content/program/requirements.txt (line 43))\n",
            "  Downloading wrapt-1.16.0-cp310-cp310-manylinux_2_5_x86_64.manylinux1_x86_64.manylinux_2_17_x86_64.manylinux2014_x86_64.whl (80 kB)\n",
            "\u001b[2K     \u001b[90m━━━━━━━━━━━━━━━━━━━━━━━━━━━━━━━━━━━━━━━━\u001b[0m \u001b[32m80.3/80.3 kB\u001b[0m \u001b[31m7.1 MB/s\u001b[0m eta \u001b[36m0:00:00\u001b[0m\n",
            "\u001b[?25hRequirement already satisfied: yarl==1.9.4 in /usr/local/lib/python3.10/dist-packages (from -r /content/program/requirements.txt (line 44)) (1.9.4)\n",
            "Requirement already satisfied: async-timeout<5.0,>=4.0 in /usr/local/lib/python3.10/dist-packages (from aiohttp==3.9.5->-r /content/program/requirements.txt (line 2)) (4.0.3)\n",
            "Requirement already satisfied: exceptiongroup in /usr/local/lib/python3.10/dist-packages (from ipython==8.24.0->-r /content/program/requirements.txt (line 17)) (1.2.1)\n",
            "Requirement already satisfied: pexpect>4.3 in /usr/local/lib/python3.10/dist-packages (from ipython==8.24.0->-r /content/program/requirements.txt (line 17)) (4.9.0)\n",
            "Requirement already satisfied: ptyprocess>=0.5 in /usr/local/lib/python3.10/dist-packages (from pexpect>4.3->ipython==8.24.0->-r /content/program/requirements.txt (line 17)) (0.7.0)\n",
            "Installing collected packages: pure-eval, wrapt, urllib3, traitlets, tornado, pyzmq, python-dateutil, Pygments, psutil, jmespath, jedi, fsspec, executing, decorator, debugpy, colorama, asttokens, aioitertools, stack-data, comm, botocore, jupyter_client, ipython, aiobotocore, s3fs, ipykernel\n",
            "  Attempting uninstall: wrapt\n",
            "    Found existing installation: wrapt 1.14.1\n",
            "    Uninstalling wrapt-1.14.1:\n",
            "      Successfully uninstalled wrapt-1.14.1\n",
            "  Attempting uninstall: urllib3\n",
            "    Found existing installation: urllib3 2.0.7\n",
            "    Uninstalling urllib3-2.0.7:\n",
            "      Successfully uninstalled urllib3-2.0.7\n",
            "  Attempting uninstall: traitlets\n",
            "    Found existing installation: traitlets 5.7.1\n",
            "    Uninstalling traitlets-5.7.1:\n",
            "      Successfully uninstalled traitlets-5.7.1\n",
            "  Attempting uninstall: tornado\n",
            "    Found existing installation: tornado 6.3.3\n",
            "    Uninstalling tornado-6.3.3:\n",
            "      Successfully uninstalled tornado-6.3.3\n",
            "  Attempting uninstall: pyzmq\n",
            "    Found existing installation: pyzmq 24.0.1\n",
            "    Uninstalling pyzmq-24.0.1:\n",
            "      Successfully uninstalled pyzmq-24.0.1\n",
            "  Attempting uninstall: python-dateutil\n",
            "    Found existing installation: python-dateutil 2.8.2\n",
            "    Uninstalling python-dateutil-2.8.2:\n",
            "      Successfully uninstalled python-dateutil-2.8.2\n",
            "  Attempting uninstall: Pygments\n",
            "    Found existing installation: Pygments 2.16.1\n",
            "    Uninstalling Pygments-2.16.1:\n",
            "      Successfully uninstalled Pygments-2.16.1\n",
            "  Attempting uninstall: psutil\n",
            "    Found existing installation: psutil 5.9.5\n",
            "    Uninstalling psutil-5.9.5:\n",
            "      Successfully uninstalled psutil-5.9.5\n",
            "  Attempting uninstall: fsspec\n",
            "    Found existing installation: fsspec 2023.6.0\n",
            "    Uninstalling fsspec-2023.6.0:\n",
            "      Successfully uninstalled fsspec-2023.6.0\n",
            "  Attempting uninstall: decorator\n",
            "    Found existing installation: decorator 4.4.2\n",
            "    Uninstalling decorator-4.4.2:\n",
            "      Successfully uninstalled decorator-4.4.2\n",
            "  Attempting uninstall: debugpy\n",
            "    Found existing installation: debugpy 1.6.6\n",
            "    Uninstalling debugpy-1.6.6:\n",
            "      Successfully uninstalled debugpy-1.6.6\n",
            "  Attempting uninstall: jupyter_client\n",
            "    Found existing installation: jupyter-client 6.1.12\n",
            "    Uninstalling jupyter-client-6.1.12:\n",
            "      Successfully uninstalled jupyter-client-6.1.12\n",
            "  Attempting uninstall: ipython\n",
            "    Found existing installation: ipython 7.34.0\n",
            "    Uninstalling ipython-7.34.0:\n",
            "      Successfully uninstalled ipython-7.34.0\n",
            "  Attempting uninstall: ipykernel\n",
            "    Found existing installation: ipykernel 5.5.6\n",
            "    Uninstalling ipykernel-5.5.6:\n",
            "      Successfully uninstalled ipykernel-5.5.6\n",
            "\u001b[31mERROR: pip's dependency resolver does not currently take into account all the packages that are installed. This behaviour is the source of the following dependency conflicts.\n",
            "torch 2.3.0+cu121 requires nvidia-cublas-cu12==12.1.3.1; platform_system == \"Linux\" and platform_machine == \"x86_64\", which is not installed.\n",
            "torch 2.3.0+cu121 requires nvidia-cuda-cupti-cu12==12.1.105; platform_system == \"Linux\" and platform_machine == \"x86_64\", which is not installed.\n",
            "torch 2.3.0+cu121 requires nvidia-cuda-nvrtc-cu12==12.1.105; platform_system == \"Linux\" and platform_machine == \"x86_64\", which is not installed.\n",
            "torch 2.3.0+cu121 requires nvidia-cuda-runtime-cu12==12.1.105; platform_system == \"Linux\" and platform_machine == \"x86_64\", which is not installed.\n",
            "torch 2.3.0+cu121 requires nvidia-cudnn-cu12==8.9.2.26; platform_system == \"Linux\" and platform_machine == \"x86_64\", which is not installed.\n",
            "torch 2.3.0+cu121 requires nvidia-cufft-cu12==11.0.2.54; platform_system == \"Linux\" and platform_machine == \"x86_64\", which is not installed.\n",
            "torch 2.3.0+cu121 requires nvidia-curand-cu12==10.3.2.106; platform_system == \"Linux\" and platform_machine == \"x86_64\", which is not installed.\n",
            "torch 2.3.0+cu121 requires nvidia-cusolver-cu12==11.4.5.107; platform_system == \"Linux\" and platform_machine == \"x86_64\", which is not installed.\n",
            "torch 2.3.0+cu121 requires nvidia-cusparse-cu12==12.1.0.106; platform_system == \"Linux\" and platform_machine == \"x86_64\", which is not installed.\n",
            "torch 2.3.0+cu121 requires nvidia-nccl-cu12==2.20.5; platform_system == \"Linux\" and platform_machine == \"x86_64\", which is not installed.\n",
            "torch 2.3.0+cu121 requires nvidia-nvtx-cu12==12.1.105; platform_system == \"Linux\" and platform_machine == \"x86_64\", which is not installed.\n",
            "gcsfs 2023.6.0 requires fsspec==2023.6.0, but you have fsspec 2024.5.0 which is incompatible.\n",
            "google-colab 1.0.0 requires ipykernel==5.5.6, but you have ipykernel 6.29.4 which is incompatible.\n",
            "google-colab 1.0.0 requires ipython==7.34.0, but you have ipython 8.24.0 which is incompatible.\n",
            "google-colab 1.0.0 requires tornado==6.3.3, but you have tornado 6.4 which is incompatible.\n",
            "moviepy 1.0.3 requires decorator<5.0,>=4.0.2, but you have decorator 5.1.1 which is incompatible.\n",
            "notebook 6.5.5 requires jupyter-client<8,>=5.3.4, but you have jupyter-client 8.6.1 which is incompatible.\n",
            "notebook 6.5.5 requires pyzmq<25,>=17, but you have pyzmq 26.0.3 which is incompatible.\n",
            "tensorflow 2.15.0 requires wrapt<1.15,>=1.11.0, but you have wrapt 1.16.0 which is incompatible.\u001b[0m\u001b[31m\n",
            "\u001b[0mSuccessfully installed Pygments-2.18.0 aiobotocore-2.13.0 aioitertools-0.11.0 asttokens-2.4.1 botocore-1.34.106 colorama-0.4.6 comm-0.2.2 debugpy-1.8.1 decorator-5.1.1 executing-2.0.1 fsspec-2024.5.0 ipykernel-6.29.4 ipython-8.24.0 jedi-0.19.1 jmespath-1.0.1 jupyter_client-8.6.1 psutil-5.9.8 pure-eval-0.2.2 python-dateutil-2.9.0.post0 pyzmq-26.0.3 s3fs-2024.5.0 stack-data-0.6.3 tornado-6.4 traitlets-5.14.3 urllib3-2.2.1 wrapt-1.16.0\n"
          ]
        },
        {
          "output_type": "display_data",
          "data": {
            "application/vnd.colab-display-data+json": {
              "pip_warning": {
                "packages": [
                  "IPython",
                  "dateutil",
                  "debugpy",
                  "decorator",
                  "psutil",
                  "tornado"
                ]
              },
              "id": "e0e8e34c9d7c4e7c802258ed1e2f5eef"
            }
          },
          "metadata": {}
        }
      ]
    },
    {
      "cell_type": "code",
      "source": [
        "import re\n",
        "import os\n",
        "import logging\n",
        "import s3fs\n",
        "from data_ingestion import ingest_data_from_s3\n",
        "from pyspark.sql import SparkSession\n",
        "from pyspark.sql.functions import *\n"
      ],
      "metadata": {
        "colab": {
          "base_uri": "https://localhost:8080/",
          "height": 384
        },
        "id": "1DIlmor1PP8c",
        "outputId": "03f76605-759e-46a0-9158-d35274e0254a"
      },
      "execution_count": 3,
      "outputs": [
        {
          "output_type": "error",
          "ename": "ModuleNotFoundError",
          "evalue": "No module named 's3fs'",
          "traceback": [
            "\u001b[0;31m---------------------------------------------------------------------------\u001b[0m",
            "\u001b[0;31mModuleNotFoundError\u001b[0m                       Traceback (most recent call last)",
            "\u001b[0;32m<ipython-input-3-0487b715da78>\u001b[0m in \u001b[0;36m<cell line: 4>\u001b[0;34m()\u001b[0m\n\u001b[1;32m      2\u001b[0m \u001b[0;32mimport\u001b[0m \u001b[0mos\u001b[0m\u001b[0;34m\u001b[0m\u001b[0;34m\u001b[0m\u001b[0m\n\u001b[1;32m      3\u001b[0m \u001b[0;32mimport\u001b[0m \u001b[0mlogging\u001b[0m\u001b[0;34m\u001b[0m\u001b[0;34m\u001b[0m\u001b[0m\n\u001b[0;32m----> 4\u001b[0;31m \u001b[0;32mimport\u001b[0m \u001b[0ms3fs\u001b[0m\u001b[0;34m\u001b[0m\u001b[0;34m\u001b[0m\u001b[0m\n\u001b[0m\u001b[1;32m      5\u001b[0m \u001b[0;32mfrom\u001b[0m \u001b[0mdata_ingestion\u001b[0m \u001b[0;32mimport\u001b[0m \u001b[0mingest_data_from_s3\u001b[0m\u001b[0;34m\u001b[0m\u001b[0;34m\u001b[0m\u001b[0m\n\u001b[1;32m      6\u001b[0m \u001b[0;32mfrom\u001b[0m \u001b[0mpyspark\u001b[0m\u001b[0;34m.\u001b[0m\u001b[0msql\u001b[0m \u001b[0;32mimport\u001b[0m \u001b[0mSparkSession\u001b[0m\u001b[0;34m\u001b[0m\u001b[0;34m\u001b[0m\u001b[0m\n",
            "\u001b[0;31mModuleNotFoundError\u001b[0m: No module named 's3fs'",
            "",
            "\u001b[0;31m---------------------------------------------------------------------------\u001b[0;32m\nNOTE: If your import is failing due to a missing package, you can\nmanually install dependencies using either !pip or !apt.\n\nTo view examples of installing some common dependencies, click the\n\"Open Examples\" button below.\n\u001b[0;31m---------------------------------------------------------------------------\u001b[0m\n"
          ],
          "errorDetails": {
            "actions": [
              {
                "action": "open_url",
                "actionText": "Open Examples",
                "url": "/notebooks/snippets/importing_libraries.ipynb"
              }
            ]
          }
        }
      ]
    },
    {
      "cell_type": "code",
      "execution_count": null,
      "metadata": {
        "id": "8Q59xfRiF0WO"
      },
      "outputs": [],
      "source": [
        "import re\n",
        "import os\n",
        "import logging\n",
        "import s3fs\n",
        "from data_ingestion import ingest_data_from_s3\n",
        "from pyspark.sql import SparkSession\n",
        "from pyspark.sql.functions import *\n",
        "\n",
        "\n",
        "\n",
        "\n",
        "\n",
        "spark = SparkSession.builder.master(\"local[*]\").appName(\"click_logs\").getOrCreate()\n",
        "\n",
        "s3_path = 'datasci-assignment/'\n",
        "# #Create S3 object to read from public S3-bucket.\n",
        "s3 = s3fs.S3FileSystem(anon =  True)\n",
        "s3.get(f'{s3_path}', f'{current_working}/Landing1/',recursive=True, maxdepth=None)\n",
        "# #Start INgesting data in Landing folder.\n",
        "# ingest_data_from_s3(os.getcwd(), s3, s3_path)\n",
        "print(str(os.getcwd()).replace(\"\\\\\", \"/\"))\n",
        "\n",
        "\n",
        "\n",
        "df = spark.read.option(\"InferSchema\", \"True\").option(\"mode\", \"PERMISSIVE\").option(\"multiLine\", True).json(\"C:/Users/Admin/Downloads/read_public_s3/Landing/postback-log/2024/05/10/00/performance_postback_log-1-2024-05-10-00-00-33-efc64b50-edbc-4a15-97ae-0aaefa93ce79\")\n",
        "# df = df.select('*', \"ip_geo.*\", \"query.*\").drop(\"query\", \"ip_geo\")\n",
        "# # df.write.format(\"parquet\")\n",
        "# df = df.withColumn(\"real_filepath\", input_file_name())\n",
        "\n",
        "# df = df.withColumn(\"actual_file\" , split(df.real_filepath, '/',limit=-1))\n",
        "# df = df.withColumn(\"count_file\", size(df.actual_file))\n",
        "# df = df.withColumn(\"actual_file\" , df.actual_file[col(\"count_file\")-1]).drop(\"count_file\")\n",
        "# # df.withColum(\"filepath\", F.regexp_extract(\"filepath\", \"State=(.+)\\.snappy\\.parquet\", 1)\n",
        "\n",
        "df.show()"
      ]
    }
  ]
}